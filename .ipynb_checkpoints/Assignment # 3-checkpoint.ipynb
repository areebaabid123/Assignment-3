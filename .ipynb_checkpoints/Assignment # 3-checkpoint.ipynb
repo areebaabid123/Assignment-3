{
 "cells": [
  {
   "cell_type": "markdown",
   "id": "c2a39ebf",
   "metadata": {},
   "source": [
    "1): Write a program to print the following string in a specific format."
   ]
  },
  {
   "cell_type": "code",
   "execution_count": 24,
   "id": "718fcaaa",
   "metadata": {},
   "outputs": [
    {
     "name": "stdout",
     "output_type": "stream",
     "text": [
      "Twinkle, twinkle, little star\n",
      "        How I wonder what you are!\n",
      "              Up above the world so high,\n",
      "              Like a diamond in the sky.\n",
      "Twinkle, twinkle, little star,\n",
      "        How I wonder what you are\n"
     ]
    }
   ],
   "source": [
    "print(\"Twinkle, twinkle, little star\\n        How I wonder what you are!\\n              Up above the world so high,\\n              Like a diamond in the sky.\\nTwinkle, twinkle, little star,\\n        How I wonder what you are\");"
   ]
  },
  {
   "cell_type": "markdown",
   "id": "c1f428da",
   "metadata": {},
   "source": [
    "2): Write a Python program to get the Python version you are using."
   ]
  },
  {
   "cell_type": "code",
   "execution_count": 25,
   "id": "9779bfac",
   "metadata": {},
   "outputs": [],
   "source": [
    "import sys"
   ]
  },
  {
   "cell_type": "code",
   "execution_count": 26,
   "id": "a237f7ba",
   "metadata": {},
   "outputs": [
    {
     "name": "stdout",
     "output_type": "stream",
     "text": [
      "Python version\n",
      "3.8.8 (default, Apr 13 2021, 15:08:03) [MSC v.1916 64 bit (AMD64)]\n",
      "Python info\n",
      "sys.version_info(major=3, minor=8, micro=8, releaselevel='final', serial=0)\n"
     ]
    }
   ],
   "source": [
    "print(\"Python version\")\n",
    "print(sys.version)\n",
    "print(\"Python info\")\n",
    "print(sys.version_info)\n"
   ]
  },
  {
   "cell_type": "markdown",
   "id": "3118370e",
   "metadata": {},
   "source": [
    "3): Write a Python program to display the current date and time."
   ]
  },
  {
   "cell_type": "code",
   "execution_count": 27,
   "id": "0663c437",
   "metadata": {},
   "outputs": [],
   "source": [
    "from datetime import datetime "
   ]
  },
  {
   "cell_type": "code",
   "execution_count": 28,
   "id": "f2ea9564",
   "metadata": {},
   "outputs": [
    {
     "name": "stdout",
     "output_type": "stream",
     "text": [
      "Now:  2021-10-24 17:20:54.440519\n",
      "Date and Time: 24-21-10 , 17:20:54\n"
     ]
    }
   ],
   "source": [
    "now = datetime.now()\n",
    "print(\"Now: \", now)\n",
    "\n",
    "str_now = now.strftime(\"%d-%y-%m , %H:%M:%S\")\n",
    "print(\"Date and Time:\" , str_now)"
   ]
  },
  {
   "cell_type": "markdown",
   "id": "e5109f0f",
   "metadata": {},
   "source": [
    "4): Write a Python program which accepts the radius of a circle from the user and compute the area."
   ]
  },
  {
   "cell_type": "code",
   "execution_count": 29,
   "id": "73ff3873",
   "metadata": {},
   "outputs": [
    {
     "name": "stdout",
     "output_type": "stream",
     "text": [
      "Enter a radius of a circle:22\n",
      "The area of a circle is 1519.76\n"
     ]
    }
   ],
   "source": [
    "radius = int(input(\"Enter a radius of a circle:\"))\n",
    "constant_pi = 3.14\n",
    "area = constant_pi*radius**2\n",
    "print(\"The area of a circle is\",area)"
   ]
  },
  {
   "cell_type": "markdown",
   "id": "83e93942",
   "metadata": {},
   "source": [
    "5): Write a python program which takes two inputs from user and print them addition."
   ]
  },
  {
   "cell_type": "code",
   "execution_count": 30,
   "id": "703d1591",
   "metadata": {},
   "outputs": [
    {
     "name": "stdout",
     "output_type": "stream",
     "text": [
      "Enter a first number:5\n",
      "Enter a second number:4\n",
      "9\n"
     ]
    }
   ],
   "source": [
    "a = int(input(\"Enter a first number:\"))\n",
    "b = int(input(\"Enter a second number:\"))\n",
    "c = a + b\n",
    "print(c)"
   ]
  },
  {
   "cell_type": "code",
   "execution_count": null,
   "id": "48d5c933",
   "metadata": {},
   "outputs": [],
   "source": []
  }
 ],
 "metadata": {
  "kernelspec": {
   "display_name": "Python 3",
   "language": "python",
   "name": "python3"
  },
  "language_info": {
   "codemirror_mode": {
    "name": "ipython",
    "version": 3
   },
   "file_extension": ".py",
   "mimetype": "text/x-python",
   "name": "python",
   "nbconvert_exporter": "python",
   "pygments_lexer": "ipython3",
   "version": "3.8.8"
  }
 },
 "nbformat": 4,
 "nbformat_minor": 5
}
